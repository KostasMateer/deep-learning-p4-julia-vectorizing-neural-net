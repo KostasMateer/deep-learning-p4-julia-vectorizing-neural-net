{
 "cells": [
  {
   "cell_type": "markdown",
   "id": "92094557-1c19-4e1d-a5cd-d714d2675d79",
   "metadata": {},
   "source": [
    "#### Code Review\n",
    "    - with DuBose Tuller\n",
    "\n",
    "- Learned what the cu() function does, learned that we did not actually set it up to be ran on GPU correctly\n",
    "- I think comments would help for both parties in understanding what the code actually does because it has been a long time since working on the project\n",
    "- updated my code in order to make it more concise because there were points where repeated code could be made into one variable or cleaner functions.\n",
    "- overall, the code was simiilar to mine, so not many changes were needed"
   ]
  },
  {
   "cell_type": "code",
   "execution_count": 1,
   "id": "2f402058-e04a-4057-982a-ba60006ddc98",
   "metadata": {},
   "outputs": [
    {
     "name": "stderr",
     "output_type": "stream",
     "text": [
      "\u001b[32m\u001b[1m  Activating\u001b[22m\u001b[39m project at `~/Workspace/CSC381`\n"
     ]
    }
   ],
   "source": [
    "# You should only need to run this cell once when you (re)start the kernel. Thereafter, includet should import any changes.\n",
    "using Pkg\n",
    "Pkg.activate(\"..\") # change this to your package-install location\n",
    "using BenchmarkTools\n",
    "using MLDatasets: MNIST\n",
    "using ImageCore\n",
    "using Flux: onehotbatch, onecold\n",
    "using CUDA\n",
    "CUDA.allowscalar(false)\n",
    "\n",
    "using Revise\n",
    "includet(\"activations_and_losses.jl\")\n",
    "includet(\"dense_network_model.jl\")\n",
    "includet(\"dense_network_training.jl\")"
   ]
  },
  {
   "cell_type": "code",
   "execution_count": 18,
   "id": "ed5af98b-5ef8-4a50-ab3e-ae52e9bc02f6",
   "metadata": {},
   "outputs": [
    {
     "name": "stdout",
     "output_type": "stream",
     "text": [
      "60000 points in the training set\n",
      "10000 points in the training set\n",
      "image inputs have dimension (28, 28)\n"
     ]
    }
   ],
   "source": [
    "train_x, train_y = MNIST.traindata()\n",
    "test_x,  test_y  = MNIST.testdata()\n",
    "\n",
    "train_set_size = size(train_x)[end]\n",
    "test_set_size = size(test_x)[end]\n",
    "image_dimensions = size(train_x)[1:end-1]\n",
    "\n",
    "println(train_set_size, \" points in the training set\")\n",
    "println(test_set_size, \" points in the training set\")\n",
    "println(\"image inputs have dimension \", image_dimensions)"
   ]
  },
  {
   "cell_type": "code",
   "execution_count": 12,
   "id": "c0043823-01be-41a1-9733-24a581f94cbe",
   "metadata": {},
   "outputs": [
    {
     "data": {
      "text/plain": [
       "test_accuracy (generic function with 1 method)"
      ]
     },
     "execution_count": 12,
     "metadata": {},
     "output_type": "execute_result"
    }
   ],
   "source": [
    "function test_accuracy(y_pred, real)\n",
    "    CUDA.allowscalar(true)\n",
    "    correct = 0\n",
    "    incorrect = 0\n",
    "    for i in 1:size(y_pred, 1)\n",
    "        test_pred = y_pred[i, :]\n",
    "        test_real = real[i, :]\n",
    "        if test_pred[test_real][1] > 0.9\n",
    "            correct += 1\n",
    "        else\n",
    "            incorrect +=1\n",
    "        end \n",
    "    end\n",
    "    percent_accurate = correct / (correct + incorrect)\n",
    "end"
   ]
  },
  {
   "cell_type": "markdown",
   "id": "d3ff99fb-a6f9-4a6f-aa26-ac6fbfe339f7",
   "metadata": {
    "tags": []
   },
   "source": [
    "# First Test"
   ]
  },
  {
   "cell_type": "code",
   "execution_count": 19,
   "id": "204aff0c-4fa6-4a2a-93d6-b32ed1a7f37a",
   "metadata": {},
   "outputs": [],
   "source": [
    "num_inputs = image_dimensions[1] * image_dimensions[2]\n",
    "num_labels = length(unique(train_y))\n",
    "hidden_sizes = [15]\n",
    "hidden_activations = [ReLU_activation]\n",
    "output_activation = softmax_activation\n",
    "nn1 = DenseNetworkCPU(num_inputs, num_labels, hidden_sizes; hidden_activations=hidden_activations, output_activation=output_activation);\n",
    "nn2 = DenseNetworkGPU(num_inputs, num_labels, hidden_sizes; hidden_activations=hidden_activations, output_activation=output_activation);"
   ]
  },
  {
   "cell_type": "code",
   "execution_count": 20,
   "id": "f9535e8b-d77f-48fa-9300-b0750bcd5411",
   "metadata": {},
   "outputs": [
    {
     "name": "stdout",
     "output_type": "stream",
     "text": [
      "input shape: (60000, 784)\n",
      "target shape: (60000, 10)\n"
     ]
    }
   ],
   "source": [
    "inputs = Array{Float32}(reshape(permutedims(train_x, [3,1,2]), train_set_size, num_inputs))\n",
    "GPU_inputs = cu(inputs)\n",
    "targets = onehotbatch(train_y, 0:9)'\n",
    "GPU_targets = cu(Array{Float32}(targets))\n",
    "println(\"input shape: \", size(inputs))\n",
    "println(\"target shape: \", size(targets))"
   ]
  },
  {
   "cell_type": "code",
   "execution_count": 21,
   "id": "acc364ae-85b8-469b-a194-ca4165fb396d",
   "metadata": {},
   "outputs": [
    {
     "data": {
      "text/plain": [
       "10"
      ]
     },
     "execution_count": 21,
     "metadata": {},
     "output_type": "execute_result"
    }
   ],
   "source": [
    "epochs = 10\n",
    "batch_size = 10"
   ]
  },
  {
   "cell_type": "code",
   "execution_count": 22,
   "id": "a7d85468-2a74-40e8-91c0-70e003e7316d",
   "metadata": {},
   "outputs": [
    {
     "name": "stdout",
     "output_type": "stream",
     "text": [
      "epoch #1 ... average loss = 1.1113095\n",
      "epoch #2 ... average loss = 0.64510024\n",
      "epoch #3 ... average loss = 0.5162058\n",
      "epoch #4 ... average loss = 0.4586566\n",
      "epoch #5 ... average loss = 0.4240687\n",
      "epoch #6 ... average loss = 0.40288737\n",
      "epoch #7 ... average loss = 0.38576153\n",
      "epoch #8 ... average loss = 0.37362728\n",
      "epoch #9 ... average loss = 0.36390746\n",
      "epoch #10 ... average loss = 0.35574207\n",
      "epoch #1 ... average loss = 1.1996245\n",
      "epoch #2 ... average loss = 0.71958816\n",
      "epoch #3 ... average loss = 0.5601815\n",
      "epoch #4 ... average loss = 0.48820668\n",
      "epoch #5 ... average loss = 0.44905385\n",
      "epoch #6 ... average loss = 0.42498124\n",
      "epoch #7 ... average loss = 0.40758044\n",
      "epoch #8 ... average loss = 0.39734954\n",
      "epoch #9 ... average loss = 0.38775736\n",
      "epoch #10 ... average loss = 0.37959337\n"
     ]
    }
   ],
   "source": [
    "train!(nn1, inputs, targets, 0.1, epochs, batch_size; verbose=true)\n",
    "train!(nn2, GPU_inputs, GPU_targets, 0.1, epochs, batch_size; verbose=true)"
   ]
  },
  {
   "cell_type": "code",
   "execution_count": 24,
   "id": "8c8b5d5c-75aa-4737-8ea1-8ffa171d5bcc",
   "metadata": {},
   "outputs": [
    {
     "data": {
      "text/plain": [
       "10000×10 adjoint(OneHotMatrix(::Vector{UInt32})) with eltype Bool:\n",
       " 0  0  0  0  0  0  0  1  0  0\n",
       " 0  0  1  0  0  0  0  0  0  0\n",
       " 0  1  0  0  0  0  0  0  0  0\n",
       " 1  0  0  0  0  0  0  0  0  0\n",
       " 0  0  0  0  1  0  0  0  0  0\n",
       " 0  1  0  0  0  0  0  0  0  0\n",
       " 0  0  0  0  1  0  0  0  0  0\n",
       " 0  0  0  0  0  0  0  0  0  1\n",
       " 0  0  0  0  0  1  0  0  0  0\n",
       " 0  0  0  0  0  0  0  0  0  1\n",
       " 1  0  0  0  0  0  0  0  0  0\n",
       " 0  0  0  0  0  0  1  0  0  0\n",
       " 0  0  0  0  0  0  0  0  0  1\n",
       " ⋮              ⋮           \n",
       " 0  0  0  0  0  1  0  0  0  0\n",
       " 0  0  0  0  0  0  1  0  0  0\n",
       " 0  0  0  0  0  0  0  1  0  0\n",
       " 0  0  0  0  0  0  0  0  1  0\n",
       " 0  0  0  0  0  0  0  0  0  1\n",
       " 1  0  0  0  0  0  0  0  0  0\n",
       " 0  1  0  0  0  0  0  0  0  0\n",
       " 0  0  1  0  0  0  0  0  0  0\n",
       " 0  0  0  1  0  0  0  0  0  0\n",
       " 0  0  0  0  1  0  0  0  0  0\n",
       " 0  0  0  0  0  1  0  0  0  0\n",
       " 0  0  0  0  0  0  1  0  0  0"
      ]
     },
     "execution_count": 24,
     "metadata": {},
     "output_type": "execute_result"
    }
   ],
   "source": [
    "test_inputs = Array{Float32}(reshape(permutedims(test_x, [3,1,2]), test_set_size, num_inputs))\n",
    "targets = onehotbatch(test_y, 0:9)'"
   ]
  },
  {
   "cell_type": "code",
   "execution_count": 25,
   "id": "292406d7-e727-49ad-9d16-456d18cf43cf",
   "metadata": {},
   "outputs": [
    {
     "data": {
      "text/plain": [
       "0.6436"
      ]
     },
     "execution_count": 25,
     "metadata": {},
     "output_type": "execute_result"
    }
   ],
   "source": [
    "y_pred_cpu = predict(nn1, test_inputs)\n",
    "test_accuracy(y_pred_cpu, targets)"
   ]
  },
  {
   "cell_type": "code",
   "execution_count": 26,
   "id": "b80d629a-6dd3-4194-a212-6c7c54c19e85",
   "metadata": {},
   "outputs": [
    {
     "data": {
      "text/plain": [
       "0.6228"
      ]
     },
     "execution_count": 26,
     "metadata": {},
     "output_type": "execute_result"
    }
   ],
   "source": [
    "y_pred_gpu = predict(nn2, test_inputs)\n",
    "test_accuracy(y_pred_gpu, targets)"
   ]
  },
  {
   "cell_type": "markdown",
   "id": "61263867-bff2-44ad-8c92-92bd870b311d",
   "metadata": {
    "tags": []
   },
   "source": [
    "# Second Test"
   ]
  },
  {
   "cell_type": "code",
   "execution_count": 27,
   "id": "833f0094-7a6e-479b-95b7-8defaa2da701",
   "metadata": {},
   "outputs": [],
   "source": [
    "hidden_sizes = [30, 30, 30]\n",
    "hidden_activations = [ReLU_activation, ReLU_activation, ReLU_activation]\n",
    "output_activation = softmax_activation\n",
    "nn1 = DenseNetworkCPU(num_inputs, num_labels, hidden_sizes; hidden_activations=hidden_activations, output_activation=output_activation);\n",
    "nn2 = DenseNetworkGPU(num_inputs, num_labels, hidden_sizes; hidden_activations=hidden_activations, output_activation=output_activation);"
   ]
  },
  {
   "cell_type": "code",
   "execution_count": 28,
   "id": "478eebe9-8872-4b3c-9a4e-8d34fd314bf6",
   "metadata": {},
   "outputs": [
    {
     "name": "stdout",
     "output_type": "stream",
     "text": [
      "input shape: (60000, 784)\n",
      "target shape: (60000, 10)\n"
     ]
    }
   ],
   "source": [
    "inputs = Array{Float32}(reshape(permutedims(train_x, [3,1,2]), train_set_size, num_inputs))\n",
    "GPU_inputs = cu(inputs)\n",
    "targets = onehotbatch(train_y, 0:9)'\n",
    "GPU_targets = cu(Array{Float32}(targets))\n",
    "println(\"input shape: \", size(inputs))\n",
    "println(\"target shape: \", size(targets))"
   ]
  },
  {
   "cell_type": "code",
   "execution_count": 29,
   "id": "3b2be782-85eb-4c25-87e4-9cbc6c40aeaa",
   "metadata": {},
   "outputs": [
    {
     "data": {
      "text/plain": [
       "10"
      ]
     },
     "execution_count": 29,
     "metadata": {},
     "output_type": "execute_result"
    }
   ],
   "source": [
    "epochs = 10\n",
    "batch_size = 10"
   ]
  },
  {
   "cell_type": "code",
   "execution_count": 30,
   "id": "679cc740-51f8-4153-8146-08a48a9f3eae",
   "metadata": {},
   "outputs": [
    {
     "name": "stdout",
     "output_type": "stream",
     "text": [
      "epoch #1 ... average loss = 2.0384738\n",
      "epoch #2 ... average loss = 1.0680647\n",
      "epoch #3 ... average loss = 0.60658896\n",
      "epoch #4 ... average loss = 0.47340494\n",
      "epoch #5 ... average loss = 0.4213134\n",
      "epoch #6 ... average loss = 0.3880435\n",
      "epoch #7 ... average loss = 0.36332297\n",
      "epoch #8 ... average loss = 0.34977695\n",
      "epoch #9 ... average loss = 0.33501244\n",
      "epoch #10 ... average loss = 0.32421112\n",
      "************************\n",
      "epoch #1 ... average loss = 2.0046678\n",
      "epoch #2 ... average loss = 0.951921\n",
      "epoch #3 ... average loss = 0.5621962\n",
      "epoch #4 ... average loss = 0.4755887\n",
      "epoch #5 ... average loss = 0.43496954\n",
      "epoch #6 ... average loss = 0.40817577\n",
      "epoch #7 ... average loss = 0.38704714\n",
      "epoch #8 ... average loss = 0.37035236\n",
      "epoch #9 ... average loss = 0.35649133\n",
      "epoch #10 ... average loss = 0.34702477\n"
     ]
    }
   ],
   "source": [
    "train!(nn1, inputs, targets, 0.1, epochs, batch_size; verbose=true)\n",
    "println(\"************************\")\n",
    "train!(nn2, GPU_inputs, GPU_targets, 0.1, epochs, batch_size; verbose=true)"
   ]
  },
  {
   "cell_type": "code",
   "execution_count": 31,
   "id": "3e2b1d4f-09d4-498c-9bd7-6a581abee7bb",
   "metadata": {},
   "outputs": [
    {
     "data": {
      "text/plain": [
       "0.6848"
      ]
     },
     "metadata": {},
     "output_type": "display_data"
    },
    {
     "data": {
      "text/plain": [
       "0.6825"
      ]
     },
     "metadata": {},
     "output_type": "display_data"
    }
   ],
   "source": [
    "test_inputs = Array{Float32}(reshape(permutedims(test_x, [3,1,2]), test_set_size, num_inputs))\n",
    "targets = onehotbatch(test_y, 0:9)'\n",
    "y_pred_cpu = predict(nn1, test_inputs)\n",
    "display(test_accuracy(y_pred_cpu, targets))\n",
    "y_pred_gpu = predict(nn2, test_inputs)\n",
    "display(test_accuracy(y_pred_gpu, targets))"
   ]
  },
  {
   "cell_type": "markdown",
   "id": "0166d54b-da8e-4e13-bf9d-f2936b62b9a9",
   "metadata": {
    "tags": []
   },
   "source": [
    "# Third Test"
   ]
  },
  {
   "cell_type": "code",
   "execution_count": 8,
   "id": "506a503a-4348-4ded-b49d-fdeb783296dc",
   "metadata": {},
   "outputs": [
    {
     "name": "stdout",
     "output_type": "stream",
     "text": [
      "input shape: (60000, 784)\n",
      "target shape: (60000, 10)\n"
     ]
    }
   ],
   "source": [
    "hidden_sizes = [1000]\n",
    "hidden_activations = [ReLU_activation]\n",
    "output_activation = softmax_activation\n",
    "nn2 = DenseNetworkGPU(num_inputs, num_labels, hidden_sizes; hidden_activations=hidden_activations, output_activation=output_activation);\n",
    "inputs = Array{Float32}(reshape(permutedims(train_x, [3,1,2]), train_set_size, num_inputs))\n",
    "GPU_inputs = cu(inputs)\n",
    "targets = onehotbatch(train_y, 0:9)'\n",
    "GPU_targets = cu(Array{Float32}(targets))\n",
    "println(\"input shape: \", size(inputs))\n",
    "println(\"target shape: \", size(targets))"
   ]
  },
  {
   "cell_type": "code",
   "execution_count": 10,
   "id": "580b82b8-6558-4ef0-9ef4-612cb38488aa",
   "metadata": {},
   "outputs": [
    {
     "name": "stdout",
     "output_type": "stream",
     "text": [
      "epoch #1 ... average loss = 0.382697\n",
      "epoch #2 ... average loss = 0.33146527\n",
      "epoch #3 ... average loss = 0.3039106\n",
      "epoch #4 ... average loss = 0.28622618\n",
      "epoch #5 ... average loss = 0.27361915\n",
      "epoch #6 ... average loss = 0.26480538\n",
      "epoch #7 ... average loss = 0.2556093\n",
      "epoch #8 ... average loss = 0.24655691\n",
      "epoch #9 ... average loss = 0.2402749\n",
      "epoch #10 ... average loss = 0.23451093\n"
     ]
    }
   ],
   "source": [
    "epochs = 10\n",
    "batch_size = 10\n",
    "train!(nn2, GPU_inputs, GPU_targets, 0.1, epochs, batch_size; verbose=true)"
   ]
  },
  {
   "cell_type": "code",
   "execution_count": 13,
   "id": "9bd35735-bee9-44b8-88a2-182d5386ad8d",
   "metadata": {},
   "outputs": [
    {
     "name": "stdout",
     "output_type": "stream",
     "text": [
      "************************\n",
      "GPU ACCURACY\n"
     ]
    },
    {
     "data": {
      "text/plain": [
       "0.7526"
      ]
     },
     "metadata": {},
     "output_type": "display_data"
    }
   ],
   "source": [
    "test_inputs = Array{Float32}(reshape(permutedims(test_x, [3,1,2]), test_set_size, num_inputs))\n",
    "targets = onehotbatch(test_y, 0:9)'\n",
    "println(\"************************\")\n",
    "println(\"GPU ACCURACY\")\n",
    "y_pred_gpu = predict(nn2, test_inputs)\n",
    "display(test_accuracy(y_pred_gpu, targets))"
   ]
  },
  {
   "cell_type": "markdown",
   "id": "ce0fdeda-3246-410a-93fe-8f25c536067b",
   "metadata": {},
   "source": [
    "# Fourth Test"
   ]
  },
  {
   "cell_type": "code",
   "execution_count": 14,
   "id": "86429208-108b-422a-9ceb-38d15ead9824",
   "metadata": {},
   "outputs": [
    {
     "name": "stdout",
     "output_type": "stream",
     "text": [
      "input shape: (60000, 784)\n",
      "target shape: (60000, 10)\n"
     ]
    }
   ],
   "source": [
    "hidden_sizes = [1000, 1000]\n",
    "hidden_activations = [ReLU_activation, ReLU_activation]\n",
    "output_activation = softmax_activation\n",
    "nn2 = DenseNetworkGPU(num_inputs, num_labels, hidden_sizes; hidden_activations=hidden_activations, output_activation=output_activation);\n",
    "inputs = Array{Float32}(reshape(permutedims(train_x, [3,1,2]), train_set_size, num_inputs))\n",
    "GPU_inputs = cu(inputs)\n",
    "targets = onehotbatch(train_y, 0:9)'\n",
    "GPU_targets = cu(Array{Float32}(targets))\n",
    "println(\"input shape: \", size(inputs))\n",
    "println(\"target shape: \", size(targets))"
   ]
  },
  {
   "cell_type": "code",
   "execution_count": 15,
   "id": "1cbf5fc9-7b08-4505-9f39-9b06eb6ec2cd",
   "metadata": {},
   "outputs": [
    {
     "name": "stdout",
     "output_type": "stream",
     "text": [
      "epoch #1 ... average loss = 0.3447325\n",
      "epoch #2 ... average loss = 0.2710708\n",
      "epoch #3 ... average loss = 0.23837233\n",
      "epoch #4 ... average loss = 0.21882996\n",
      "epoch #5 ... average loss = 0.20484327\n",
      "epoch #6 ... average loss = 0.18103561\n",
      "epoch #7 ... average loss = 0.16922922\n",
      "epoch #8 ... average loss = 0.16545115\n",
      "epoch #9 ... average loss = 0.14983746\n",
      "epoch #10 ... average loss = 0.1450526\n"
     ]
    }
   ],
   "source": [
    "epochs = 10\n",
    "batch_size = 10\n",
    "train!(nn2, GPU_inputs, GPU_targets, 0.1, epochs, batch_size; verbose=true)"
   ]
  },
  {
   "cell_type": "code",
   "execution_count": 17,
   "id": "3eef9e7e-59e2-43cb-9632-18ae2a806099",
   "metadata": {},
   "outputs": [
    {
     "name": "stdout",
     "output_type": "stream",
     "text": [
      "************************\n",
      "GPU ACCURACY\n"
     ]
    },
    {
     "data": {
      "text/plain": [
       "0.8448"
      ]
     },
     "metadata": {},
     "output_type": "display_data"
    }
   ],
   "source": [
    "test_inputs = Array{Float32}(reshape(permutedims(test_x, [3,1,2]), test_set_size, num_inputs))\n",
    "targets = onehotbatch(test_y, 0:9)'\n",
    "println(\"************************\")\n",
    "println(\"GPU ACCURACY\")\n",
    "y_pred_gpu = predict(nn2, test_inputs)\n",
    "display(test_accuracy(y_pred_gpu, targets))"
   ]
  },
  {
   "cell_type": "markdown",
   "id": "c0f1c1de-87ef-4d43-aeba-becad7b7deea",
   "metadata": {
    "tags": []
   },
   "source": [
    "# Benchmark for Time"
   ]
  },
  {
   "cell_type": "code",
   "execution_count": 2,
   "id": "50d360fb-0818-44c4-a198-6a8d60dd44ab",
   "metadata": {},
   "outputs": [
    {
     "name": "stdout",
     "output_type": "stream",
     "text": [
      "60000 points in the training set\n",
      "10000 points in the training set\n",
      "image inputs have dimension (28, 28)\n",
      "input shape: (60000, 784)\n",
      "target shape: (60000, 10)\n"
     ]
    }
   ],
   "source": [
    "train_x, train_y = MNIST.traindata()\n",
    "test_x,  test_y  = MNIST.testdata()\n",
    "\n",
    "train_set_size = size(train_x)[end]\n",
    "test_set_size = size(test_x)[end]\n",
    "image_dimensions = size(train_x)[1:end-1]\n",
    "\n",
    "println(train_set_size, \" points in the training set\")\n",
    "println(test_set_size, \" points in the training set\")\n",
    "println(\"image inputs have dimension \", image_dimensions)\n",
    "num_inputs = image_dimensions[1] * image_dimensions[2]\n",
    "num_labels = length(unique(train_y))\n",
    "hidden_sizes = [100, 30, 30, 30]\n",
    "hidden_activations = [ReLU_activation, ReLU_activation, ReLU_activation, ReLU_activation]\n",
    "output_activation = softmax_activation\n",
    "nn1 = DenseNetworkCPU(num_inputs, num_labels, hidden_sizes; hidden_activations=hidden_activations, output_activation=output_activation);\n",
    "nn2 = DenseNetworkGPU(num_inputs, num_labels, hidden_sizes; hidden_activations=hidden_activations, output_activation=output_activation);\n",
    "inputs = Array{Float32}(reshape(permutedims(train_x, [3,1,2]), train_set_size, num_inputs))\n",
    "GPU_inputs = cu(inputs)\n",
    "targets = onehotbatch(train_y, 0:9)'\n",
    "GPU_targets = cu(Array{Float32}(targets))\n",
    "println(\"input shape: \", size(inputs))\n",
    "println(\"target shape: \", size(targets))"
   ]
  },
  {
   "cell_type": "code",
   "execution_count": 4,
   "id": "596d74fb-5b84-4189-a324-b0bb4abcc354",
   "metadata": {},
   "outputs": [
    {
     "data": {
      "text/plain": [
       "10"
      ]
     },
     "execution_count": 4,
     "metadata": {},
     "output_type": "execute_result"
    }
   ],
   "source": [
    "epochs = 10\n",
    "batch_size = 10"
   ]
  },
  {
   "cell_type": "code",
   "execution_count": 8,
   "id": "59203075-d939-48f1-884d-cfe17e2a1702",
   "metadata": {},
   "outputs": [
    {
     "name": "stdout",
     "output_type": "stream",
     "text": [
      "epoch #1 ... average loss = 1.7144024\n",
      "epoch #2 ... average loss = 0.70992094\n",
      "epoch #3 ... average loss = 0.546513\n",
      "epoch #4 ... average loss = 0.4560476\n",
      "epoch #5 ... average loss = 0.4077106\n",
      "epoch #6 ... average loss = 0.3860169\n",
      "epoch #7 ... average loss = 0.37056953\n",
      "epoch #8 ... average loss = 0.34829906\n",
      "epoch #9 ... average loss = 0.33297735\n",
      "epoch #10 ... average loss = 0.31371465\n",
      "epoch #1 ... average loss = 0.30302054\n",
      "epoch #2 ... average loss = 0.28794122\n",
      "epoch #3 ... average loss = 0.28256056\n",
      "epoch #4 ... average loss = 0.27182493\n",
      "epoch #5 ... average loss = 0.2618159\n",
      "epoch #6 ... average loss = 0.25784504\n",
      "epoch #7 ... average loss = 0.2602559\n",
      "epoch #8 ... average loss = 0.25141895\n",
      "epoch #9 ... average loss = 0.242885\n",
      "epoch #10 ... average loss = 0.24037871\n",
      "epoch #1 ... average loss = 0.23723467\n",
      "epoch #2 ... average loss = 0.22892968\n",
      "epoch #3 ... average loss = 0.22854039\n",
      "epoch #4 ... average loss = 0.22322017\n",
      "epoch #5 ... average loss = 0.22453482\n",
      "epoch #6 ... average loss = 0.22019689\n",
      "epoch #7 ... average loss = 0.22098769\n",
      "epoch #8 ... average loss = 0.21909587\n",
      "epoch #9 ... average loss = 0.21564214\n",
      "epoch #10 ... average loss = 0.21417464\n",
      "epoch #1 ... average loss = 0.21522467\n",
      "epoch #2 ... average loss = 0.20842151\n",
      "epoch #3 ... average loss = 0.20822877\n",
      "epoch #4 ... average loss = 0.20793234\n",
      "epoch #5 ... average loss = 0.20507562\n",
      "epoch #6 ... average loss = 0.20343718\n",
      "epoch #7 ... average loss = 0.20229362\n",
      "epoch #8 ... average loss = 0.20365405\n",
      "epoch #9 ... average loss = 0.21634214\n",
      "epoch #10 ... average loss = 0.20176958\n"
     ]
    },
    {
     "data": {
      "text/plain": [
       "BenchmarkTools.Trial: 1 sample with 1 evaluation.\n",
       " Single result which took \u001b[34m141.642 s\u001b[39m (1.01% GC) to evaluate,\n",
       " with a memory estimate of \u001b[33m110.51 GiB\u001b[39m, over \u001b[33m10382840\u001b[39m allocations."
      ]
     },
     "execution_count": 8,
     "metadata": {},
     "output_type": "execute_result"
    }
   ],
   "source": [
    "@benchmark CUDA.@sync train!(nn1, inputs, targets, 0.1, epochs, batch_size; verbose=true)"
   ]
  },
  {
   "cell_type": "code",
   "execution_count": 5,
   "id": "75cea7ab-e1af-4926-ba1b-f517d07d9f5b",
   "metadata": {},
   "outputs": [
    {
     "name": "stdout",
     "output_type": "stream",
     "text": [
      "epoch #1 ... average loss = 1.8711956\n",
      "epoch #2 ... average loss = 0.9251965\n",
      "epoch #3 ... average loss = 0.6509949\n",
      "epoch #4 ... average loss = 0.49028608\n",
      "epoch #5 ... average loss = 0.41271523\n",
      "epoch #6 ... average loss = 0.3658207\n",
      "epoch #7 ... average loss = 0.33951637\n",
      "epoch #8 ... average loss = 0.31961238\n",
      "epoch #9 ... average loss = 0.31122878\n",
      "epoch #10 ... average loss = 0.29561642\n",
      "epoch #1 ... average loss = 0.28984374\n",
      "epoch #2 ... average loss = 0.28074974\n",
      "epoch #3 ... average loss = 0.27309895\n",
      "epoch #4 ... average loss = 0.2675291\n",
      "epoch #5 ... average loss = 0.2632172\n",
      "epoch #6 ... average loss = 0.25606444\n",
      "epoch #7 ... average loss = 0.25427902\n",
      "epoch #8 ... average loss = 0.2514099\n",
      "epoch #9 ... average loss = 0.2506071\n",
      "epoch #10 ... average loss = 0.23990731\n",
      "epoch #1 ... average loss = 0.24599384\n",
      "epoch #2 ... average loss = 0.23747373\n",
      "epoch #3 ... average loss = 0.2340533\n",
      "epoch #4 ... average loss = 0.22914945\n",
      "epoch #5 ... average loss = 0.22640067\n",
      "epoch #6 ... average loss = 0.22460192\n",
      "epoch #7 ... average loss = 0.22535495\n",
      "epoch #8 ... average loss = 0.22151415\n",
      "epoch #9 ... average loss = 0.22191975\n",
      "epoch #10 ... average loss = 0.21625546\n",
      "epoch #1 ... average loss = 0.21860904\n",
      "epoch #2 ... average loss = 0.21590695\n",
      "epoch #3 ... average loss = 0.21597926\n",
      "epoch #4 ... average loss = 0.21576154\n",
      "epoch #5 ... average loss = 0.20995434\n",
      "epoch #6 ... average loss = 0.20693447\n",
      "epoch #7 ... average loss = 0.20797956\n",
      "epoch #8 ... average loss = 0.20580813\n",
      "epoch #9 ... average loss = 0.20608614\n",
      "epoch #10 ... average loss = 0.2083295\n"
     ]
    },
    {
     "data": {
      "text/plain": [
       "BenchmarkTools.Trial: 1 sample with 1 evaluation.\n",
       " Single result which took \u001b[34m110.690 s\u001b[39m (2.90% GC) to evaluate,\n",
       " with a memory estimate of \u001b[33m70.10 GiB\u001b[39m, over \u001b[33m129007071\u001b[39m allocations."
      ]
     },
     "execution_count": 5,
     "metadata": {},
     "output_type": "execute_result"
    }
   ],
   "source": [
    "@benchmark CUDA.@sync train!(nn2, GPU_inputs, GPU_targets, 0.1, epochs, batch_size; verbose=true)"
   ]
  },
  {
   "cell_type": "code",
   "execution_count": 28,
   "id": "95cab37b-2f15-4d3a-8090-6f05863149be",
   "metadata": {},
   "outputs": [
    {
     "name": "stdout",
     "output_type": "stream",
     "text": [
      "epoch #1 ... average loss = 2.2111588\n",
      "epoch #1 ... average loss = 2.0372195\n",
      "epoch #1 ... average loss = NaN\n",
      "epoch #1 ... average loss = NaN\n",
      "epoch #1 ... average loss = NaN\n"
     ]
    },
    {
     "data": {
      "text/plain": [
       "BenchmarkTools.Trial: 2 samples with 1 evaluation.\n",
       " Range \u001b[90m(\u001b[39m\u001b[36m\u001b[1mmin\u001b[22m\u001b[39m … \u001b[35mmax\u001b[39m\u001b[90m):  \u001b[39m\u001b[36m\u001b[1m2.802 s\u001b[22m\u001b[39m … \u001b[35m5.694 s\u001b[39m  \u001b[90m┊\u001b[39m GC \u001b[90m(\u001b[39mmin … max\u001b[90m): \u001b[39m0.29% … 0.16%\n",
       " Time  \u001b[90m(\u001b[39m\u001b[34m\u001b[1mmedian\u001b[22m\u001b[39m\u001b[90m):     \u001b[39m\u001b[34m\u001b[1m4.248 s            \u001b[22m\u001b[39m\u001b[90m┊\u001b[39m GC \u001b[90m(\u001b[39mmedian\u001b[90m):    \u001b[39m0.20%\n",
       " Time  \u001b[90m(\u001b[39m\u001b[32m\u001b[1mmean\u001b[22m\u001b[39m ± \u001b[32mσ\u001b[39m\u001b[90m):   \u001b[39m\u001b[32m\u001b[1m4.248 s\u001b[22m\u001b[39m ± \u001b[32m2.045 s\u001b[39m  \u001b[90m┊\u001b[39m GC \u001b[90m(\u001b[39mmean ± σ\u001b[90m):  \u001b[39m0.20% ± 0.09%\n",
       "\n",
       "  \u001b[34m█\u001b[39m\u001b[39m \u001b[39m \u001b[39m \u001b[39m \u001b[39m \u001b[39m \u001b[39m \u001b[39m \u001b[39m \u001b[39m \u001b[39m \u001b[39m \u001b[39m \u001b[39m \u001b[39m \u001b[39m \u001b[39m \u001b[39m \u001b[39m \u001b[39m \u001b[39m \u001b[39m \u001b[39m \u001b[39m \u001b[39m \u001b[39m \u001b[39m \u001b[32m \u001b[39m\u001b[39m \u001b[39m \u001b[39m \u001b[39m \u001b[39m \u001b[39m \u001b[39m \u001b[39m \u001b[39m \u001b[39m \u001b[39m \u001b[39m \u001b[39m \u001b[39m \u001b[39m \u001b[39m \u001b[39m \u001b[39m \u001b[39m \u001b[39m \u001b[39m \u001b[39m \u001b[39m \u001b[39m \u001b[39m \u001b[39m█\u001b[39m \u001b[39m \n",
       "  \u001b[34m█\u001b[39m\u001b[39m▁\u001b[39m▁\u001b[39m▁\u001b[39m▁\u001b[39m▁\u001b[39m▁\u001b[39m▁\u001b[39m▁\u001b[39m▁\u001b[39m▁\u001b[39m▁\u001b[39m▁\u001b[39m▁\u001b[39m▁\u001b[39m▁\u001b[39m▁\u001b[39m▁\u001b[39m▁\u001b[39m▁\u001b[39m▁\u001b[39m▁\u001b[39m▁\u001b[39m▁\u001b[39m▁\u001b[39m▁\u001b[39m▁\u001b[39m▁\u001b[32m▁\u001b[39m\u001b[39m▁\u001b[39m▁\u001b[39m▁\u001b[39m▁\u001b[39m▁\u001b[39m▁\u001b[39m▁\u001b[39m▁\u001b[39m▁\u001b[39m▁\u001b[39m▁\u001b[39m▁\u001b[39m▁\u001b[39m▁\u001b[39m▁\u001b[39m▁\u001b[39m▁\u001b[39m▁\u001b[39m▁\u001b[39m▁\u001b[39m▁\u001b[39m▁\u001b[39m▁\u001b[39m▁\u001b[39m▁\u001b[39m█\u001b[39m \u001b[39m▁\n",
       "  2.8 s\u001b[90m         Histogram: frequency by time\u001b[39m       5.69 s \u001b[0m\u001b[1m<\u001b[22m\n",
       "\n",
       " Memory estimate\u001b[90m: \u001b[39m\u001b[33m748.24 MiB\u001b[39m, allocs estimate\u001b[90m: \u001b[39m\u001b[33m505\u001b[39m."
      ]
     },
     "execution_count": 28,
     "metadata": {},
     "output_type": "execute_result"
    }
   ],
   "source": [
    "epochs = 1\n",
    "batch_size = 1000000\n",
    "\n",
    "@benchmark CUDA.@sync train!(nn1, inputs, targets, 0.1, epochs, batch_size; verbose=true)"
   ]
  },
  {
   "cell_type": "code",
   "execution_count": 29,
   "id": "43f2f7ff-83e7-4943-ba20-3f95c69ee6e7",
   "metadata": {},
   "outputs": [
    {
     "name": "stdout",
     "output_type": "stream",
     "text": [
      "epoch #1 ... average loss = 2.2608552\n",
      "epoch #1 ... average loss = 2.2526152\n",
      "epoch #1 ... average loss = 2.0883303\n",
      "epoch #1 ... average loss = 21.581697\n",
      "epoch #1 ... average loss = NaN\n",
      "epoch #1 ... average loss = NaN\n",
      "epoch #1 ... average loss = NaN\n",
      "epoch #1 ... average loss = NaN\n",
      "epoch #1 ... average loss = NaN\n",
      "epoch #1 ... average loss = NaN\n",
      "epoch #1 ... average loss = NaN\n",
      "epoch #1 ... average loss = NaN\n",
      "epoch #1 ... average loss = NaN\n",
      "epoch #1 ... average loss = NaN\n",
      "epoch #1 ... average loss = NaN\n",
      "epoch #1 ... average loss = NaN\n",
      "epoch #1 ... average loss = NaN\n",
      "epoch #1 ... average loss = NaN\n",
      "epoch #1 ... average loss = NaN\n",
      "epoch #1 ... average loss = NaN\n",
      "epoch #1 ... average loss = NaN\n",
      "epoch #1 ... average loss = NaN\n",
      "epoch #1 ... average loss = NaN\n"
     ]
    },
    {
     "data": {
      "text/plain": [
       "BenchmarkTools.Trial: 11 samples with 1 evaluation.\n",
       " Range \u001b[90m(\u001b[39m\u001b[36m\u001b[1mmin\u001b[22m\u001b[39m … \u001b[35mmax\u001b[39m\u001b[90m):  \u001b[39m\u001b[36m\u001b[1m274.125 ms\u001b[22m\u001b[39m … \u001b[35m825.842 ms\u001b[39m  \u001b[90m┊\u001b[39m GC \u001b[90m(\u001b[39mmin … max\u001b[90m): \u001b[39m1.70% … 0.65%\n",
       " Time  \u001b[90m(\u001b[39m\u001b[34m\u001b[1mmedian\u001b[22m\u001b[39m\u001b[90m):     \u001b[39m\u001b[34m\u001b[1m465.639 ms               \u001b[22m\u001b[39m\u001b[90m┊\u001b[39m GC \u001b[90m(\u001b[39mmedian\u001b[90m):    \u001b[39m1.13%\n",
       " Time  \u001b[90m(\u001b[39m\u001b[32m\u001b[1mmean\u001b[22m\u001b[39m ± \u001b[32mσ\u001b[39m\u001b[90m):   \u001b[39m\u001b[32m\u001b[1m485.937 ms\u001b[22m\u001b[39m ± \u001b[32m149.229 ms\u001b[39m  \u001b[90m┊\u001b[39m GC \u001b[90m(\u001b[39mmean ± σ\u001b[90m):  \u001b[39m1.25% ± 0.53%\n",
       "\n",
       "  \u001b[39m▁\u001b[39m \u001b[39m \u001b[39m \u001b[39m \u001b[39m \u001b[39m \u001b[39m \u001b[39m▁\u001b[39m \u001b[39m \u001b[39m \u001b[39m \u001b[39m \u001b[39m█\u001b[39m \u001b[39m \u001b[39m▁\u001b[34m \u001b[39m\u001b[39m \u001b[39m \u001b[39m▁\u001b[39m \u001b[32m \u001b[39m\u001b[39m▁\u001b[39m \u001b[39m▁\u001b[39m \u001b[39m▁\u001b[39m \u001b[39m \u001b[39m \u001b[39m \u001b[39m \u001b[39m \u001b[39m \u001b[39m \u001b[39m \u001b[39m \u001b[39m \u001b[39m▁\u001b[39m \u001b[39m \u001b[39m \u001b[39m \u001b[39m \u001b[39m \u001b[39m \u001b[39m \u001b[39m \u001b[39m \u001b[39m \u001b[39m \u001b[39m \u001b[39m \u001b[39m \u001b[39m \u001b[39m \u001b[39m \u001b[39m \u001b[39m▁\u001b[39m \u001b[39m \n",
       "  \u001b[39m█\u001b[39m▁\u001b[39m▁\u001b[39m▁\u001b[39m▁\u001b[39m▁\u001b[39m▁\u001b[39m▁\u001b[39m█\u001b[39m▁\u001b[39m▁\u001b[39m▁\u001b[39m▁\u001b[39m▁\u001b[39m█\u001b[39m▁\u001b[39m▁\u001b[39m█\u001b[34m▁\u001b[39m\u001b[39m▁\u001b[39m▁\u001b[39m█\u001b[39m▁\u001b[32m▁\u001b[39m\u001b[39m█\u001b[39m▁\u001b[39m█\u001b[39m▁\u001b[39m█\u001b[39m▁\u001b[39m▁\u001b[39m▁\u001b[39m▁\u001b[39m▁\u001b[39m▁\u001b[39m▁\u001b[39m▁\u001b[39m▁\u001b[39m▁\u001b[39m▁\u001b[39m█\u001b[39m▁\u001b[39m▁\u001b[39m▁\u001b[39m▁\u001b[39m▁\u001b[39m▁\u001b[39m▁\u001b[39m▁\u001b[39m▁\u001b[39m▁\u001b[39m▁\u001b[39m▁\u001b[39m▁\u001b[39m▁\u001b[39m▁\u001b[39m▁\u001b[39m▁\u001b[39m▁\u001b[39m▁\u001b[39m█\u001b[39m \u001b[39m▁\n",
       "  274 ms\u001b[90m           Histogram: frequency by time\u001b[39m          826 ms \u001b[0m\u001b[1m<\u001b[22m\n",
       "\n",
       " Memory estimate\u001b[90m: \u001b[39m\u001b[33m411.32 MiB\u001b[39m, allocs estimate\u001b[90m: \u001b[39m\u001b[33m4202\u001b[39m."
      ]
     },
     "execution_count": 29,
     "metadata": {},
     "output_type": "execute_result"
    }
   ],
   "source": [
    "@benchmark CUDA.@sync train!(nn2, GPU_inputs, GPU_targets, 0.1, epochs, batch_size; verbose=true)"
   ]
  },
  {
   "cell_type": "markdown",
   "id": "d3a3cced-92eb-4759-8a20-a323d224f7a4",
   "metadata": {},
   "source": [
    "This shows the difference in using a CPU and a GPU.\n",
    "\n",
    "The top graph shows the CPU run time with multiple tests, and the bottom one shows the same but with a GPU"
   ]
  },
  {
   "cell_type": "markdown",
   "id": "cdd57729-fec3-49b0-9448-24d6b33e4a20",
   "metadata": {
    "tags": []
   },
   "source": [
    "# Conclusions"
   ]
  },
  {
   "cell_type": "markdown",
   "id": "30a0efdc-b725-4c45-b464-daafc755cc43",
   "metadata": {},
   "source": [
    "## Best Architecture"
   ]
  },
  {
   "cell_type": "markdown",
   "id": "4a44d5aa-7d8a-48c2-80ae-5d499161ba98",
   "metadata": {},
   "source": [
    "We arrived at the best architecture by at first starting with a basic architecture with one hidden layer with 15 neurons."
   ]
  },
  {
   "cell_type": "markdown",
   "id": "c0e97357-e9dd-41ab-a7d5-d78c85abf7d9",
   "metadata": {},
   "source": [
    "The reason for this is to start the net training with a basic starting point. It resulted in a accuracy of 60%. The way we calculated the accuracy was to round up predicted oneHotEncoded vector. If a number was greater than 0.9 then we rounded that up to 1, and compared the location of that label to the actual label and if they were the same, then we counted it as correct prediction."
   ]
  },
  {
   "cell_type": "markdown",
   "id": "762e824a-eff3-4a27-bb00-6eeb307a1363",
   "metadata": {},
   "source": [
    "We messed with the arhictecture with multiple layers and varying neurons, but kept the epochs and batch size the same. We saw not much increase in accuracy"
   ]
  },
  {
   "cell_type": "markdown",
   "id": "e74114be-de23-4c38-baf4-4f3c9d8b1002",
   "metadata": {},
   "source": [
    "For the third test we decided to radically change the amount of neurons in the hidden layer to 1000 and got much better results of 75%."
   ]
  },
  {
   "cell_type": "markdown",
   "id": "95b23b13-082c-479d-a83e-df229ae9ec69",
   "metadata": {},
   "source": [
    "For the fourth test we added another hidden layer of 1000 neurons and that further increased the accuracy to about 85%. We decided that this is the best architecture."
   ]
  },
  {
   "cell_type": "markdown",
   "id": "93040fbb-f00c-4a24-86bf-3d7f926bcede",
   "metadata": {},
   "source": [
    "We tinkered with the learning rate from 0.001 to 0.1 in the scratchwork notebook. We chose 0.1 because we were not doing many epochs so needed larger changes in the gradient. The reason we kept the epochs low was because the training with these handcoded networks are slow."
   ]
  },
  {
   "cell_type": "markdown",
   "id": "4ef4af49-3152-416d-9728-32563d85b1c8",
   "metadata": {
    "tags": []
   },
   "source": [
    "## Time"
   ]
  },
  {
   "cell_type": "markdown",
   "id": "fae643ae-153e-4e95-a533-ce77ec49ccda",
   "metadata": {},
   "source": [
    "The GPU will run faster because it is able to conduct many calculations in parallel. "
   ]
  },
  {
   "cell_type": "markdown",
   "id": "f75bc8ee-86a6-43ba-9aa0-853657ecaf2a",
   "metadata": {},
   "source": [
    "We found that there is a tradeoff with increased speed. In order to do more calculations in parallel, then the computer needs to allocate much more space. We found that this was worth it because the handcoded networks are not as efficient as other well made packages."
   ]
  }
 ],
 "metadata": {
  "kernelspec": {
   "display_name": "Julia 1.7.0",
   "language": "julia",
   "name": "julia-1.7"
  },
  "language_info": {
   "file_extension": ".jl",
   "mimetype": "application/julia",
   "name": "julia",
   "version": "1.7.0"
  }
 },
 "nbformat": 4,
 "nbformat_minor": 5
}
